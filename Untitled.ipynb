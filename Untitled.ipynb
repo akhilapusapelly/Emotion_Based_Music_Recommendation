{
 "cells": [
  {
   "cell_type": "code",
   "execution_count": 16,
   "id": "695cb030",
   "metadata": {},
   "outputs": [
    {
     "name": "stdout",
     "output_type": "stream",
     "text": [
      "0.96\n",
      "19\n"
     ]
    },
    {
     "data": {
      "image/png": "[encoded data removed]",
      "text/plain": [
       "<Figure size 432x288 with 1 Axes>"
      ]
     },
     "metadata": {
      "needs_background": "light"
     },
     "output_type": "display_data"
    }
   ],
   "source": [
    "import numpy as np\n",
    "import pandas as pd\n",
    "import matplotlib.pyplot as plt\n",
    "import sklearn.metrics as sm\n",
    "def song_prediction(emotion):\n",
    "    emotions = {\"angry\" : 1, \"disgust\" : 2, \"happy\" : 3, \"neutral\" : 4, \"sad\" : 5, \"scared\" : 6, \"surprise\" : 7}\n",
    "    x_new = emotions[emotion]\n",
    "    dataset=pd.read_csv(\"Songs_Data.csv\")\n",
    "    dataset1=pd.read_csv(\"Songs_Data.csv\")\n",
    "    X_train = dataset.iloc[:,:-1].values\n",
    "    y_train = dataset.iloc[:,1].values\n",
    "    X_test = dataset1.iloc[:,:-1].values\n",
    "    y_test = dataset1.iloc[:,1].values\n",
    "    from sklearn.linear_model import LinearRegression\n",
    "    regressor=LinearRegression()\n",
    "    regressor.fit(X_train,y_train)\n",
    "    y_pred = regressor.predict(X_test)\n",
    "    plt.scatter(X_train,y_train,color=\"red\")\n",
    "    plt.plot(X_train,regressor.predict(X_train),color=\"blue\")\n",
    "    plt.title('Linear Regression(training Set)')\n",
    "    plt.xlabel('X')\n",
    "    plt.ylabel('Y')\n",
    "    print(round(sm.r2_score(y_test, y_pred), 2))\n",
    "    return regressor.predict([[x_new]])\n",
    "print(int(song_prediction(\"surprise\")[0]) + 1)"
   ]
  },
  {
   "cell_type": "code",
   "execution_count": 17,
   "id": "df0b624d",
   "metadata": {},
   "outputs": [
    {
     "name": "stderr",
     "output_type": "stream",
     "text": [
      "C:\\Users\\hp\\anaconda3\\lib\\site-packages\\sklearn\\linear_model\\_logistic.py:763: ConvergenceWarning: lbfgs failed to converge (status=1):\n",
      "STOP: TOTAL NO. of ITERATIONS REACHED LIMIT.\n",
      "\n",
      "Increase the number of iterations (max_iter) or scale the data as shown in:\n",
      "    https://scikit-learn.org/stable/modules/preprocessing.html\n",
      "Please also refer to the documentation for alternative solver options:\n",
      "    https://scikit-learn.org/stable/modules/linear_model.html#logistic-regression\n",
      "  n_iter_i = _check_optimize_result(\n"
     ]
    },
    {
     "name": "stdout",
     "output_type": "stream",
     "text": [
      "0.9\n",
      "22\n"
     ]
    },
    {
     "data": {
      "image/png": "[encoded data removed]",
      "text/plain": [
       "<Figure size 432x288 with 1 Axes>"
      ]
     },
     "metadata": {
      "needs_background": "light"
     },
     "output_type": "display_data"
    }
   ],
   "source": [
    "import numpy as np\n",
    "import pandas as pd\n",
    "import matplotlib.pyplot as plt\n",
    "import sklearn.metrics as sm\n",
    "def song_prediction(emotion):\n",
    "    emotions = {\"angry\" : 1, \"disgust\" : 2, \"happy\" : 3, \"neutral\" : 4, \"sad\" : 5, \"scared\" : 6, \"surprise\" : 7}\n",
    "    x_new = emotions[emotion]\n",
    "    dataset=pd.read_csv(\"Songs_Data.csv\")\n",
    "    dataset1=pd.read_csv(\"Songs_Data.csv\")\n",
    "    X_train = dataset.iloc[:,:-1].values\n",
    "    y_train = dataset.iloc[:,1].values\n",
    "    X_test = dataset1.iloc[:,:-1].values\n",
    "    y_test = dataset1.iloc[:,1].values\n",
    "    from sklearn import linear_model\n",
    "    regressor=linear_model.LogisticRegression()\n",
    "    regressor.fit(X_train,y_train)\n",
    "    y_pred = regressor.predict(X_test)\n",
    "    plt.scatter(X_train,y_train,color=\"red\")\n",
    "    plt.plot(X_train,regressor.predict(X_train),color=\"blue\")\n",
    "    plt.title('Linear Regression(training Set)')\n",
    "    plt.xlabel('X')\n",
    "    plt.ylabel('Y')\n",
    "    print(round(sm.r2_score(y_test, y_pred), 2))\n",
    "    return regressor.predict([[x_new]])\n",
    "print(int(song_prediction(\"surprise\")[0]) + 1)"
   ]
  },
  {
   "cell_type": "code",
   "execution_count": null,
   "id": "18aa5fe1",
   "metadata": {},
   "outputs": [],
   "source": []
  }
 ],
 "metadata": {
  "kernelspec": {
   "display_name": "Python 3 (ipykernel)",
   "language": "python",
   "name": "python3"
  },
  "language_info": {
   "codemirror_mode": {
    "name": "ipython",
    "version": 3
   },
   "file_extension": ".py",
   "mimetype": "text/x-python",
   "name": "python",
   "nbconvert_exporter": "python",
   "pygments_lexer": "ipython3",
   "version": "3.9.7"
  }
 },
 "nbformat": 4,
 "nbformat_minor": 5
}
